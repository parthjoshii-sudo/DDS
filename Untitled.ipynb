{
  "nbformat": 4,
  "nbformat_minor": 0,
  "metadata": {
    "colab": {
      "provenance": [],
      "authorship_tag": "ABX9TyPSRDhjl57ih0y4AASoTfxO",
      "include_colab_link": true
    },
    "kernelspec": {
      "name": "python3",
      "display_name": "Python 3"
    },
    "language_info": {
      "name": "python"
    }
  },
  "cells": [
    {
      "cell_type": "markdown",
      "metadata": {
        "id": "view-in-github",
        "colab_type": "text"
      },
      "source": [
        "<a href=\"https://colab.research.google.com/github/parthjoshii-sudo/DDS/blob/main/Untitled.ipynb\" target=\"_parent\"><img src=\"https://colab.research.google.com/assets/colab-badge.svg\" alt=\"Open In Colab\"/></a>"
      ]
    },
    {
      "cell_type": "code",
      "execution_count": 5,
      "metadata": {
        "colab": {
          "base_uri": "https://localhost:8080/"
        },
        "id": "bK5Um6VU1DMY",
        "outputId": "f527de7f-594a-40ec-f066-7a1aa1d47ed1"
      },
      "outputs": [
        {
          "output_type": "stream",
          "name": "stdout",
          "text": [
            "5\n"
          ]
        }
      ],
      "source": [
        "x = (1,2,3,4,5)\n",
        "print(x[4])"
      ]
    },
    {
      "cell_type": "code",
      "source": [
        "my_list = [10, 20, 30, 40, 50]\n",
        "element_to_find = 30\n",
        "\n",
        "found = False\n",
        "for element in my_list:\n",
        "  if element == element_to_find:\n",
        "    found = True\n",
        "    break\n",
        "\n",
        "if found:\n",
        "  print(f\"{element_to_find} was found in the list.\")\n",
        "else:\n",
        "  print(f\"{element_to_find} was not found in the list.\")"
      ],
      "metadata": {
        "id": "HL50H9Xl9PfX"
      },
      "execution_count": null,
      "outputs": []
    }
  ]
}